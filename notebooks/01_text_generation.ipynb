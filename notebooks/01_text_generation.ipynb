{
 "cells": [
  {
   "cell_type": "code",
   "execution_count": 6,
   "metadata": {},
   "outputs": [],
   "source": [
    "from dotenv import load_dotenv\n",
    "from openai import OpenAI\n",
    "import os\n",
    "\n",
    "load_dotenv()\n",
    "\n",
    "client = OpenAI(api_key=os.environ.get(\"OPENAI_API_KEY\"))\n",
    "\n",
    "translator_system_prompt: str = \"\"\"You are a helpful assistant designed to output JSON.\n",
    "Translate the user's input from English into Chinese in a JSON format like this:\n",
    "input: `Hello`\n",
    "output: `{\"translation\": \"你好\"}`\n",
    "\"\"\"\n",
    "\n",
    "def generate_response(prompt: str) -> dict:\n",
    "    response = client.chat.completions.create(\n",
    "        model=\"gpt-4o\",\n",
    "        response_format={\"type\": \"json_object\"},\n",
    "        temperature=0.0,\n",
    "        messages=[\n",
    "            {\n",
    "                \"role\": \"system\",\n",
    "                \"content\": translator_system_prompt,\n",
    "            },\n",
    "            {\"role\": \"user\", \"content\": f\"input: `{prompt}`\"},\n",
    "        ],\n",
    "    )\n",
    "    response_content: str = response.choices[0].message.content\n",
    "    return response_content"
   ]
  },
  {
   "cell_type": "code",
   "execution_count": 7,
   "metadata": {},
   "outputs": [
    {
     "data": {
      "text/plain": [
       "'{\\n  \"translation\": \"包含丰富的方面\"\\n}'"
      ]
     },
     "execution_count": 7,
     "metadata": {},
     "output_type": "execute_result"
    }
   ],
   "source": [
    "generate_response(\"encompasses a rich array of aspects\")"
   ]
  },
  {
   "cell_type": "code",
   "execution_count": null,
   "metadata": {},
   "outputs": [],
   "source": [
    "def system_message(content: str) -> dict:\n",
    "    return {\"role\": \"system\", \"content\": content}\n",
    "\n",
    "def user_message(content: str) -> dict:\n",
    "    return {\"role\": \"user\", \"content\": content}\n",
    "\n",
    "def assistant_message(content: str) -> dict:\n",
    "    return {\"role\": \"assistant\", \"content\": content}"
   ]
  }
 ],
 "metadata": {
  "kernelspec": {
   "display_name": "sthenno",
   "language": "python",
   "name": "python3"
  },
  "language_info": {
   "codemirror_mode": {
    "name": "ipython",
    "version": 3
   },
   "file_extension": ".py",
   "mimetype": "text/x-python",
   "name": "python",
   "nbconvert_exporter": "python",
   "pygments_lexer": "ipython3",
   "version": "3.11.9"
  }
 },
 "nbformat": 4,
 "nbformat_minor": 2
}
